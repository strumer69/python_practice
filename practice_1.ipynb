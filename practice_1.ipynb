{
 "cells": [
  {
   "cell_type": "markdown",
   "id": "40437bbd",
   "metadata": {},
   "source": [
    "### practice 1"
   ]
  },
  {
   "cell_type": "code",
   "execution_count": null,
   "id": "a110666f",
   "metadata": {},
   "outputs": [],
   "source": [
    "def multiplication_or_sum(num1, num2):\n",
    "    \n",
    "    # calculate product of two number\n",
    "    product = num1 * num2\n",
    "    \n",
    "    # check if product is less then 1000\n",
    "    if product <= 1000:\n",
    "        return product\n",
    "    else:\n",
    "        # product is greater than 1000 calculate sum\n",
    "        return num1 + num2\n",
    " \n",
    "# first condition\n",
    "result = multiplication_or_sum(20, 30)\n",
    "print(\"The first result is\", result)\n",
    " \n",
    "# Second condition\n",
    "result = multiplication_or_sum(40, 30)\n",
    "print(\"The second result is\", result)"
   ]
  },
  {
   "cell_type": "code",
   "execution_count": 1,
   "id": "23355e7c",
   "metadata": {},
   "outputs": [
    {
     "name": "stdout",
     "output_type": "stream",
     "text": [
      "C:\\Users\\Shahram\n"
     ]
    }
   ],
   "source": [
    "cd"
   ]
  },
  {
   "cell_type": "code",
   "execution_count": null,
   "id": "e5a977d0",
   "metadata": {},
   "outputs": [],
   "source": []
  }
 ],
 "metadata": {
  "kernelspec": {
   "display_name": "Python 3 (ipykernel)",
   "language": "python",
   "name": "python3"
  },
  "language_info": {
   "codemirror_mode": {
    "name": "ipython",
    "version": 3
   },
   "file_extension": ".py",
   "mimetype": "text/x-python",
   "name": "python",
   "nbconvert_exporter": "python",
   "pygments_lexer": "ipython3",
   "version": "3.9.13"
  }
 },
 "nbformat": 4,
 "nbformat_minor": 5
}
