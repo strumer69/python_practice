{
 "cells": [
  {
   "cell_type": "markdown",
   "id": "8463a00f",
   "metadata": {},
   "source": [
    "### practice 1"
   ]
  },
  {
   "cell_type": "markdown",
   "id": "bd0af049",
   "metadata": {},
   "source": [
    "# 15 Begginer Exercises from pynative.com\n",
    "### https://pynative.com/python-basic-exercise-for-beginners/\n",
    "\n"
   ]
  },
  {
   "cell_type": "markdown",
   "id": "486d04ea",
   "metadata": {},
   "source": [
    "## Exercise 1\n",
    "### Given two integer numbers, return their product only if the product is equal to or lower than 1000. Otherwise, return their sum."
   ]
  },
  {
   "cell_type": "code",
   "execution_count": null,
   "id": "92149c93",
   "metadata": {},
   "outputs": [],
   "source": [
    "def multiplication_or_sum(num1, num2):\n",
    "    \n",
    "    # calculate product of two number\n",
    "    product = num1 * num2\n",
    "    \n",
    "    # check if product is less then 1000\n",
    "    if product <= 1000:\n",
    "        return product\n",
    "    else:\n",
    "        # product is greater than 1000 calculate sum\n",
    "        return num1 + num2\n",
    " \n",
    "# first condition\n",
    "result = multiplication_or_sum(20, 30)\n",
    "print(\"The first result is\", result)\n",
    " \n",
    "# Second condition\n",
    "result = multiplication_or_sum(40, 30)\n",
    "print(\"The second result is\", result)"
   ]
  },
  {
   "cell_type": "code",
   "execution_count": null,
   "id": "452d971d",
   "metadata": {},
   "outputs": [],
   "source": []
  }
 ],
 "metadata": {
  "kernelspec": {
   "display_name": "Python 3 (ipykernel)",
   "language": "python",
   "name": "python3"
  },
  "language_info": {
   "codemirror_mode": {
    "name": "ipython",
    "version": 3
   },
   "file_extension": ".py",
   "mimetype": "text/x-python",
   "name": "python",
   "nbconvert_exporter": "python",
   "pygments_lexer": "ipython3",
   "version": "3.9.13"
  }
 },
 "nbformat": 4,
 "nbformat_minor": 5
}
